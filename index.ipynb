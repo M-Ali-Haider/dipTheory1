{
 "cells": [
  {
   "cell_type": "code",
   "execution_count": null,
   "metadata": {},
   "outputs": [],
   "source": []
  },
  {
   "cell_type": "markdown",
   "metadata": {},
   "source": [
    "Initialization\n"
   ]
  },
  {
   "cell_type": "code",
   "execution_count": 30,
   "metadata": {},
   "outputs": [],
   "source": [
    "import cv2\n",
    "\n",
    "pyaraCR = cv2.imread('HamzaCR.jpeg',cv2.IMREAD_GRAYSCALE)\n",
    "\n",
    "def showImage(title,img):\n",
    "    cv2.imshow(title, img)\n",
    "    cv2.waitKey(0)\n",
    "    cv2.destroyAllWindows()\n",
    "\n",
    "showImage('Chad CR',pyaraCR)\n",
    "\n"
   ]
  },
  {
   "cell_type": "markdown",
   "metadata": {},
   "source": [
    "Histogram Equalization: Code to equalize the histogram of a grayscale image."
   ]
  },
  {
   "cell_type": "code",
   "execution_count": 31,
   "metadata": {},
   "outputs": [],
   "source": [
    "histogramEqualizedImage = cv2.equalizeHist(pyaraCR)\n",
    "showImage('Histogram Equalized CR',histogramEqualizedImage)"
   ]
  },
  {
   "cell_type": "markdown",
   "metadata": {},
   "source": [
    "Erosion and Dilation: Implement erosion and dilation using a structuring element."
   ]
  },
  {
   "cell_type": "markdown",
   "metadata": {},
   "source": [
    "Erosion"
   ]
  },
  {
   "cell_type": "code",
   "execution_count": 32,
   "metadata": {},
   "outputs": [],
   "source": [
    "import numpy as np\n",
    "\n",
    "kernel = np.ones((3, 3), np.uint8)\n",
    "\n",
    "# kernel = [[1, 1, 1],\n",
    "#           [1, 1, 1],\n",
    "#           [1, 1, 1]]\n",
    "\n",
    "erodedImage = cv2.erode(pyaraCR,kernel=kernel,iterations=1)\n",
    "showImage('Eroded CR',erodedImage)\n",
    "\n"
   ]
  },
  {
   "cell_type": "markdown",
   "metadata": {},
   "source": [
    "Dilation"
   ]
  },
  {
   "cell_type": "code",
   "execution_count": 33,
   "metadata": {},
   "outputs": [],
   "source": [
    "dilationImage = cv2.dilate(pyaraCR,kernel=kernel,iterations=1)\n",
    "showImage('Dilated CR',erodedImage)\n",
    "\n"
   ]
  },
  {
   "cell_type": "markdown",
   "metadata": {},
   "source": [
    "Opening and Closing: Implement morphological opening and closing."
   ]
  },
  {
   "cell_type": "markdown",
   "metadata": {},
   "source": [
    "Opening"
   ]
  },
  {
   "cell_type": "code",
   "execution_count": 34,
   "metadata": {},
   "outputs": [],
   "source": [
    "openingImage = cv2.morphologyEx(pyaraCR,cv2.MORPH_OPEN,kernel)\n",
    "showImage('Opening CR',openingImage)"
   ]
  },
  {
   "cell_type": "markdown",
   "metadata": {},
   "source": [
    "Closing"
   ]
  },
  {
   "cell_type": "code",
   "execution_count": 35,
   "metadata": {},
   "outputs": [],
   "source": [
    "closingImage = cv2.morphologyEx(pyaraCR,cv2.MORPH_CLOSE,kernel)\n",
    "showImage('Closing CR',closingImage)"
   ]
  },
  {
   "cell_type": "markdown",
   "metadata": {},
   "source": [
    "Edge Detection: Write code for edge detection using both the Sobel and Canny methods."
   ]
  },
  {
   "cell_type": "markdown",
   "metadata": {},
   "source": [
    "Sobel"
   ]
  },
  {
   "cell_type": "code",
   "execution_count": 36,
   "metadata": {},
   "outputs": [],
   "source": [
    "sobelX = cv2.Sobel(pyaraCR, cv2.CV_64F,1,0,ksize=5)\n",
    "sobelY = cv2.Sobel(pyaraCR, cv2.CV_64F,1,1,ksize=5)\n",
    "sobelXY = cv2.magnitude(sobelX,sobelY)\n",
    "\n",
    "showImage('Sobel CR',sobelXY)"
   ]
  },
  {
   "cell_type": "markdown",
   "metadata": {},
   "source": [
    "Canny"
   ]
  },
  {
   "cell_type": "code",
   "execution_count": 37,
   "metadata": {},
   "outputs": [],
   "source": [
    "cannyImage = cv2.Canny(pyaraCR,100,200)\n",
    "showImage('Canny CR',cannyImage)"
   ]
  },
  {
   "cell_type": "markdown",
   "metadata": {},
   "source": [
    "Image Distortion: Write a simple code to simulate geometric distortion (e.g., image warping)."
   ]
  },
  {
   "cell_type": "code",
   "execution_count": 38,
   "metadata": {},
   "outputs": [],
   "source": [
    "# print(pyaraCR.shape) (328, 282)\n",
    "height,width = pyaraCR.shape\n",
    "srcPoints = np.float32([[0, 0], [width - 1, 0], [0, height - 1]])\n",
    "dstPoints = np.float32([[0, 0], [width * 0.6, height * 0.2], [width * 0.4, height * 0.8]])\n",
    "matrix = cv2.getAffineTransform(srcPoints,dstPoints)\n",
    "\n",
    "wrappedImage = cv2.warpAffine(pyaraCR,matrix,(width,height))\n",
    "showImage('Distorted CR',wrappedImage)\n"
   ]
  },
  {
   "cell_type": "markdown",
   "metadata": {},
   "source": [
    "Bonus: Explore another image processing technique not listed above (e.g., Image Smoothing, Thresholding)"
   ]
  },
  {
   "cell_type": "code",
   "execution_count": 39,
   "metadata": {},
   "outputs": [],
   "source": [
    "soothingImage = cv2.GaussianBlur(pyaraCR,(5,5),0)\n",
    "showImage('Soothed CR',soothingImage)"
   ]
  }
 ],
 "metadata": {
  "kernelspec": {
   "display_name": "Python 3",
   "language": "python",
   "name": "python3"
  },
  "language_info": {
   "codemirror_mode": {
    "name": "ipython",
    "version": 3
   },
   "file_extension": ".py",
   "mimetype": "text/x-python",
   "name": "python",
   "nbconvert_exporter": "python",
   "pygments_lexer": "ipython3",
   "version": "3.12.3"
  }
 },
 "nbformat": 4,
 "nbformat_minor": 2
}
